{
 "cells": [
  {
   "cell_type": "markdown",
   "metadata": {},
   "source": [
    "# Lab #4: Algorithms in Machine Language\n",
    "## Introduction to Computer Organization\n",
    "### Fall 2017, Professor Blank\n",
    "\n",
    "**Goals:**\n",
    "\n",
    "* writing algorithms in system organization concepts\n",
    "* converting algorithms to instructions\n",
    "* begin to use memory\n",
    "* use the branch instruction\n",
    "\n",
    "**Due:**\n",
    "\n",
    "* This lab is due in two weeks\n",
    "\n",
    "*Put your name in the cell below:*"
   ]
  },
  {
   "cell_type": "markdown",
   "metadata": {
    "collapsed": true,
    "deletable": false,
    "nbgrader": {
     "checksum": "66538b84f6aa4f9c4554d37465f2837c",
     "grade": true,
     "grade_id": "cell-8929e6ecb1e41eb1",
     "locked": false,
     "points": 5,
     "schema_version": 1,
     "solution": true
    }
   },
   "source": [
    "Chloe Sheen"
   ]
  },
  {
   "cell_type": "markdown",
   "metadata": {},
   "source": [
    "Write machine code for each of the following problems, assemble them, and run them. Point out how to tell that you got the answer. Explain how your code works. You can add as many cells as you like to make your explanations. "
   ]
  },
  {
   "cell_type": "markdown",
   "metadata": {},
   "source": [
    "## 1.1 Problem"
   ]
  },
  {
   "cell_type": "markdown",
   "metadata": {},
   "source": [
    "Add up the numbers 1 through 10 (use a branch)."
   ]
  },
  {
   "cell_type": "code",
   "execution_count": 216,
   "metadata": {
    "deletable": false,
    "nbgrader": {
     "checksum": "1c6f0d95a503a044972517f7be10a9f4",
     "grade": true,
     "grade_id": "cell-960c584367dd5cee",
     "locked": false,
     "points": 20,
     "schema_version": 1,
     "solution": true
    }
   },
   "outputs": [
    {
     "name": "stdout",
     "output_type": "stream",
     "text": [
      "Assembled! Use %dis or %dump to examine; use %exe to run.\n"
     ]
    }
   ],
   "source": [
    ".ORIG x3000\n",
    "0101 000 000 1 00000  ;; R0 <- 0      , AND DST SRC #0  initializing the SUM to zero\n",
    "0101 001 001 1 00000  ;; R1 <- 0      , AND DST SRC #0  \n",
    "0101 010 010 1 00000  ;; R2 <- 0      , AND DST SRC #0  counter\n",
    "0001 010 010 1 01010  ;; R2 <- 10     , ADD DST SRC 1 #10\n",
    "\n",
    "0001 001 001 1 00001  ;; R1 <- R1+1   , ADD R1 <= R1 + 1\n",
    "0001 000 000 0 00 001 ;; R0 <- R0 + R1\n",
    "0001 010 010 1 11111  ;; R2 <- R2-1   , ADD R2 <= R2 + -1 (DECREMENT)\n",
    "\n",
    "0000 001 111111100    ;; BRp x3008 -4 , if R2 is positive, BR loop to x3004\n",
    "\n",
    "1111 0000 00100101    ;; HALT\n",
    ".END"
   ]
  },
  {
   "cell_type": "code",
   "execution_count": 217,
   "metadata": {},
   "outputs": [
    {
     "name": "stdout",
     "output_type": "stream",
     "text": [
      "\n",
      "============================================================\n",
      "Registers:\n",
      "============================================================\n",
      "PC: x3000\n",
      "N: 0 Z: 1 P: 0 \n",
      "R0: x0000 R1: x0000 R2: x0000 R3: x0000 \n",
      "R4: x0000 R5: x0000 R6: x0000 R7: x0000 \n"
     ]
    }
   ],
   "source": [
    "%pc 3000"
   ]
  },
  {
   "cell_type": "code",
   "execution_count": 229,
   "metadata": {},
   "outputs": [
    {
     "name": "stdout",
     "output_type": "stream",
     "text": [
      "============================================================\n",
      "Stepping...  => read, <= write, (Instructions/Cycles):\n",
      "============================================================\n",
      "    PC <= x3008\n",
      "(12/72) BRp x3004  [10] (x3008*: x03FC)\n",
      "    PC <= x3004\n",
      "    True - branching to x3004\n",
      "\n",
      "============================================================\n",
      "Registers:\n",
      "============================================================\n",
      "PC: x3004\n",
      "N: 0 Z: 0 P: 1 \n",
      "R0: x0003 R1: x0002 R2: x0008 R3: x0000 \n",
      "R4: x0000 R5: x0000 R6: x0000 R7: x0000 \n"
     ]
    }
   ],
   "source": [
    "%step"
   ]
  },
  {
   "cell_type": "code",
   "execution_count": 169,
   "metadata": {},
   "outputs": [
    {
     "name": "stdout",
     "output_type": "stream",
     "text": [
      "============================================================\n",
      "Computation completed\n",
      "============================================================\n",
      "Instructions: 45\n",
      "Cycles: 273 (0.000137 milliseconds)\n",
      "\n",
      "============================================================\n",
      "Registers:\n",
      "============================================================\n",
      "PC: x048E\n",
      "N: 0 Z: 1 P: 0 \n",
      "R0: x0037 R1: x000A R2: x0000 R3: x0000 \n",
      "R4: x0000 R5: x0000 R6: x0000 R7: x3009 \n"
     ]
    }
   ],
   "source": [
    "%exe"
   ]
  },
  {
   "cell_type": "markdown",
   "metadata": {},
   "source": [
    "Just like the example provided in the FlowOfControl notebook, I used a register to increment and a register to decrement and a register to store the final answer. In my program, my answer is stored in R0 (x0037 in hex, 55 in decimal), R1 is the incrementer, and R2 is the decrementer. First, the program initializes the values in R0, R1, and R2 to zero using the AND operator (0101) and ADD (0001) 10 to R2 so that R2 can keep track of how many times we will be continuing in this loop. The loop contains instructions to first increment R1 by one, then store the sum of that R1 value and R0 into R0, and then decrement R2. As long as the resulting R2 value is positive, the program branches to x3004 (subtract 4 from current memory location x3008) and it runs again from there. "
   ]
  },
  {
   "cell_type": "markdown",
   "metadata": {},
   "source": [
    "## 1.2 Problem"
   ]
  },
  {
   "cell_type": "markdown",
   "metadata": {},
   "source": [
    "Add up the numbers 10 through 20 (use a branch)."
   ]
  },
  {
   "cell_type": "code",
   "execution_count": 230,
   "metadata": {
    "deletable": false,
    "nbgrader": {
     "checksum": "b58dd505ee557f86a6c535f38ad8cfa2",
     "grade": true,
     "grade_id": "cell-2a78f3224224a281",
     "locked": false,
     "points": 20,
     "schema_version": 1,
     "solution": true
    }
   },
   "outputs": [
    {
     "name": "stdout",
     "output_type": "stream",
     "text": [
      "Assembled! Use %dis or %dump to examine; use %exe to run.\n"
     ]
    }
   ],
   "source": [
    ".ORIG x3000\n",
    "0101 000 000 1 00000  ;; R0 <- 0      , AND DST SRC #0  initializing the SUM to zero\n",
    "0101 001 001 1 00000  ;; R1 <- 0      , AND DST SRC #0  \n",
    "0001 001 001 1 01001  ;; R1 <- 9      , ADD DST SRC 1 #9  \n",
    "0101 010 010 1 00000  ;; R2 <- 0      , AND DST SRC #0  counter\n",
    "0001 010 010 1 01011  ;; R2 <- 11     , ADD DST SRC 1 #11\n",
    "\n",
    "0001 001 001 1 00001  ;; R1 <- R1+1   , ADD R1 <= R1 + 1\n",
    "0001 000 000 0 00 001 ;; R0 <- R0 + R1\n",
    "0001 010 010 1 11111  ;; R2 <- R2-1   , ADD R2 <= R2 + -1 (DECREMENT)\n",
    "\n",
    "0000 001 111111100    ;; BRp x3008 -4 , if R2 is positive, BR loop to x3004\n",
    "\n",
    "1111 0000 00100101    ;; HALT\n",
    ".END"
   ]
  },
  {
   "cell_type": "code",
   "execution_count": 231,
   "metadata": {},
   "outputs": [
    {
     "name": "stdout",
     "output_type": "stream",
     "text": [
      "============================================================\n",
      "Computation completed\n",
      "============================================================\n",
      "Instructions: 50\n",
      "Cycles: 303 (0.000151 milliseconds)\n",
      "\n",
      "============================================================\n",
      "Registers:\n",
      "============================================================\n",
      "PC: x048E\n",
      "N: 0 Z: 1 P: 0 \n",
      "R0: x00A5 R1: x0014 R2: x0000 R3: x0000 \n",
      "R4: x0000 R5: x0000 R6: x0000 R7: x300A \n"
     ]
    }
   ],
   "source": [
    "%exe"
   ]
  },
  {
   "cell_type": "markdown",
   "metadata": {},
   "source": [
    "I used the same program as I did in question 1, with modifications. Since the numbers to be multiplied begin at 10 now, I initially added the number 10 to R1, and then realized this was not right because R1 increments itself before it is added to the value in R0. So I added the number 9 instead so that the loop would begin with the value of R1 starting at 10. Similar idea with ADDing 11 to R2 instead of 10, because we want the loop to run one more time to include the addition of 20 at the end. Otherwise, the answer is still stored in R0 (x00A5, 165 in decimal) and the program loops in the same way as question 1. "
   ]
  },
  {
   "cell_type": "markdown",
   "metadata": {},
   "source": [
    "## 1.3 Problem"
   ]
  },
  {
   "cell_type": "markdown",
   "metadata": {},
   "source": [
    "Subtract 5 from 7."
   ]
  },
  {
   "cell_type": "code",
   "execution_count": 235,
   "metadata": {
    "deletable": false,
    "nbgrader": {
     "checksum": "f4f7afd523f1d4e49c15090cf2b3735e",
     "grade": true,
     "grade_id": "cell-684c9e90e0b3d927",
     "locked": false,
     "points": 20,
     "schema_version": 1,
     "solution": true
    }
   },
   "outputs": [
    {
     "name": "stdout",
     "output_type": "stream",
     "text": [
      "Assembled! Use %dis or %dump to examine; use %exe to run.\n"
     ]
    }
   ],
   "source": [
    ".ORIG x3000\n",
    "0001 000 000 1 00111   ;; ADD R0 R0 1 #7 \n",
    "0001 000 000 1 11011   ;; ADD R0 R0 1 #-5 => 00101(REMOVE SIGN) -> 11010(FLIP) -> 11011(ADD 1)\n",
    "\n",
    "1111 0000 00100101     ;; HALT\n",
    ".END"
   ]
  },
  {
   "cell_type": "code",
   "execution_count": 236,
   "metadata": {},
   "outputs": [
    {
     "name": "stdout",
     "output_type": "stream",
     "text": [
      "============================================================\n",
      "Computation completed\n",
      "============================================================\n",
      "Instructions: 3\n",
      "Cycles: 21 (0.000010 milliseconds)\n",
      "\n",
      "============================================================\n",
      "Registers:\n",
      "============================================================\n",
      "PC: x048E\n",
      "N: 0 Z: 0 P: 1 \n",
      "R0: x0002 R1: x0000 R2: x0000 R3: x0000 \n",
      "R4: x0000 R5: x0000 R6: x0000 R7: x3003 \n"
     ]
    }
   ],
   "source": [
    "%exe"
   ]
  },
  {
   "cell_type": "markdown",
   "metadata": {},
   "source": [
    "Answer is stored in R0, as I simply ADDed 7 to R0 and then ADDed -5."
   ]
  },
  {
   "cell_type": "markdown",
   "metadata": {},
   "source": [
    "## 1.4 Problem"
   ]
  },
  {
   "cell_type": "markdown",
   "metadata": {},
   "source": [
    "Subtract 7 from 5."
   ]
  },
  {
   "cell_type": "code",
   "execution_count": 239,
   "metadata": {
    "deletable": false,
    "nbgrader": {
     "checksum": "ae9082f467c2d9c705d06ca126ebc2a9",
     "grade": true,
     "grade_id": "cell-806e34d9a1346566",
     "locked": false,
     "points": 20,
     "schema_version": 1,
     "solution": true
    }
   },
   "outputs": [
    {
     "name": "stdout",
     "output_type": "stream",
     "text": [
      "Assembled! Use %dis or %dump to examine; use %exe to run.\n"
     ]
    }
   ],
   "source": [
    ".ORIG x3000\n",
    "0001 000 000 1 00101   ;; ADD R0 R0 1 #5 \n",
    "0001 000 000 1 11001   ;; ADD R0 R0 1 #-7 => 00111(REMOVE SIGN) -> 11000(FLIP) -> 11001(ADD 1)\n",
    "\n",
    "1111 0000 00100101     ;; HALT\n",
    ".END"
   ]
  },
  {
   "cell_type": "code",
   "execution_count": 240,
   "metadata": {},
   "outputs": [
    {
     "name": "stdout",
     "output_type": "stream",
     "text": [
      "============================================================\n",
      "Computation completed\n",
      "============================================================\n",
      "Instructions: 3\n",
      "Cycles: 21 (0.000010 milliseconds)\n",
      "\n",
      "============================================================\n",
      "Registers:\n",
      "============================================================\n",
      "PC: x048E\n",
      "N: 1 Z: 0 P: 0 \n",
      "R0: xFFFE R1: x0000 R2: x0000 R3: x0000 \n",
      "R4: x0000 R5: x0000 R6: x0000 R7: x3003 \n"
     ]
    }
   ],
   "source": [
    "%exe"
   ]
  },
  {
   "cell_type": "markdown",
   "metadata": {},
   "source": [
    "Answer is stored in R0, as I simply ADDed 5 to R0 and then ADDed -7. xFFFE is -2 in 2's complement."
   ]
  },
  {
   "cell_type": "markdown",
   "metadata": {},
   "source": [
    "## 1.5 Problem"
   ]
  },
  {
   "cell_type": "markdown",
   "metadata": {},
   "source": [
    "Multiply 2 times 7. Multiplying by two could be called \"shift left\".... why?"
   ]
  },
  {
   "cell_type": "code",
   "execution_count": 242,
   "metadata": {
    "deletable": false,
    "nbgrader": {
     "checksum": "ee3056553d5c0833132711e1e6245198",
     "grade": true,
     "grade_id": "cell-926859b5eab77b11",
     "locked": false,
     "points": 20,
     "schema_version": 1,
     "solution": true
    }
   },
   "outputs": [
    {
     "name": "stdout",
     "output_type": "stream",
     "text": [
      "Assembled! Use %dis or %dump to examine; use %exe to run.\n"
     ]
    }
   ],
   "source": [
    ".ORIG x3000\n",
    "0001 000 000 1 00111\n",
    "0001 000 000 1 00111\n",
    "\n",
    "1111 0000 00100101\n",
    ".END"
   ]
  },
  {
   "cell_type": "code",
   "execution_count": 243,
   "metadata": {
    "scrolled": true
   },
   "outputs": [
    {
     "name": "stdout",
     "output_type": "stream",
     "text": [
      "============================================================\n",
      "Computation completed\n",
      "============================================================\n",
      "Instructions: 3\n",
      "Cycles: 21 (0.000010 milliseconds)\n",
      "\n",
      "============================================================\n",
      "Registers:\n",
      "============================================================\n",
      "PC: x048E\n",
      "N: 0 Z: 0 P: 1 \n",
      "R0: x000E R1: x0000 R2: x0000 R3: x0000 \n",
      "R4: x0000 R5: x0000 R6: x0000 R7: x3003 \n"
     ]
    }
   ],
   "source": [
    "%exe"
   ]
  },
  {
   "cell_type": "markdown",
   "metadata": {},
   "source": [
    "Answer is stored in R0, as I simply ADDed 7 to R0 and then ADDed 7 again to R0. \n",
    "\n",
    "Multiplying by two can be called \"shift left\" because multiplying a binary number by 2 causes all of the bits to shift by one place to the left. For example, multiplying 7 by 2 in this problem would look like: 0111 (7 in decimal) --> 1110 (14 in decimal) and we can see that all of the bits have shifted to the left by 1."
   ]
  },
  {
   "cell_type": "markdown",
   "metadata": {},
   "source": [
    "## 1.6 Problem"
   ]
  },
  {
   "cell_type": "markdown",
   "metadata": {},
   "source": [
    "Multiply 5 times 7 in a generic way. Make your code so that you could change either 7 or 5 and the code would still work."
   ]
  },
  {
   "cell_type": "code",
   "execution_count": 270,
   "metadata": {
    "deletable": false,
    "nbgrader": {
     "checksum": "14a815e771b17e59857ab2a6db7443d3",
     "grade": true,
     "grade_id": "cell-5e15c515bb4c522c",
     "locked": false,
     "points": 20,
     "schema_version": 1,
     "solution": true
    }
   },
   "outputs": [
    {
     "name": "stdout",
     "output_type": "stream",
     "text": [
      "Assembled! Use %dis or %dump to examine; use %exe to run.\n"
     ]
    }
   ],
   "source": [
    ".ORIG x3000\n",
    "0101 001 001 1 00000   ;; R1 <- 0      , AND DST SRC #0  \n",
    "0001 001 001 1 00101   ;; R1 <- 5      , ADD R1 R1 1 #5\n",
    "\n",
    "0001 000 000 1 00111   ;; R0 <- R0 + 7  , ADD R0 R0 #7\n",
    "0001 001 001 1 11111   ;; R1 <- R1 + -1 , ADD R1 R1 #-1 . decrement \n",
    "\n",
    "0000 001 111111101     ;; if R1 is positive, keep going\n",
    "\n",
    "1111 0000 00100101     ;; HALT\n",
    ".END"
   ]
  },
  {
   "cell_type": "code",
   "execution_count": 271,
   "metadata": {},
   "outputs": [
    {
     "name": "stdout",
     "output_type": "stream",
     "text": [
      "============================================================\n",
      "Computation completed\n",
      "============================================================\n",
      "Instructions: 18\n",
      "Cycles: 111 (0.000056 milliseconds)\n",
      "\n",
      "============================================================\n",
      "Registers:\n",
      "============================================================\n",
      "PC: x048E\n",
      "N: 0 Z: 1 P: 0 \n",
      "R0: x0023 R1: x0000 R2: x0000 R3: x0000 \n",
      "R4: x0000 R5: x0000 R6: x0000 R7: x3006 \n"
     ]
    }
   ],
   "source": [
    "%exe"
   ]
  },
  {
   "cell_type": "markdown",
   "metadata": {},
   "source": [
    "We cannot do the simple approach of adding five 7 times or adding seven 5 times, because once we change either 7 or 5, it would not produce the correct result. Instead, I used a very simple branch. First, store 5 in R1, and go into the loop, where I ADD 7 and store it into 0 each time, and R1 decrements by 1. Once R1 hits zero, it is no longer positive and the program will exit from the loop and halt. As we continuously add 7 to R0, my answer is in R0. I tried running the program with adding 5 continuously, thus swapping the 7 with 5 to see if the program will work (shown below). "
   ]
  },
  {
   "cell_type": "code",
   "execution_count": 272,
   "metadata": {},
   "outputs": [
    {
     "name": "stdout",
     "output_type": "stream",
     "text": [
      "Assembled! Use %dis or %dump to examine; use %exe to run.\n"
     ]
    }
   ],
   "source": [
    ".ORIG x3000\n",
    "0101 001 001 1 00000   ;; R1 <- 0      , AND DST SRC #0  \n",
    "0001 001 001 1 00111   ;; R1 <- 7      , ADD R1 R1 1 #7\n",
    "\n",
    "0001 000 000 1 00101   ;; R0 <- R0 + 5  , ADD R0 R0 #5\n",
    "0001 001 001 1 11111   ;; R1 <- R1 + -1 , ADD R1 R1 #-1 . decrement \n",
    "\n",
    "0000 001 111111101     ;; if R1 is positive, keep going\n",
    "\n",
    "1111 0000 00100101     ;; HALT\n",
    ".END"
   ]
  },
  {
   "cell_type": "code",
   "execution_count": 273,
   "metadata": {},
   "outputs": [
    {
     "name": "stdout",
     "output_type": "stream",
     "text": [
      "============================================================\n",
      "Computation completed\n",
      "============================================================\n",
      "Instructions: 24\n",
      "Cycles: 147 (0.000073 milliseconds)\n",
      "\n",
      "============================================================\n",
      "Registers:\n",
      "============================================================\n",
      "PC: x048E\n",
      "N: 0 Z: 1 P: 0 \n",
      "R0: x0023 R1: x0000 R2: x0000 R3: x0000 \n",
      "R4: x0000 R5: x0000 R6: x0000 R7: x3006 \n"
     ]
    }
   ],
   "source": [
    "%exe"
   ]
  },
  {
   "cell_type": "markdown",
   "metadata": {},
   "source": [
    "As shown, we get the same answer, x0023 (35 in decimal) which shows that this program can work when the multiplicand and the multiplier are switched."
   ]
  },
  {
   "cell_type": "markdown",
   "metadata": {},
   "source": [
    "## 1.7 Problem"
   ]
  },
  {
   "cell_type": "markdown",
   "metadata": {},
   "source": [
    "How many times will 3 go into 11? Make your code so that you could change either 3 or 11 and the code would still work."
   ]
  },
  {
   "cell_type": "code",
   "execution_count": 36,
   "metadata": {
    "deletable": false,
    "nbgrader": {
     "checksum": "4c1fdac03e6414bf3d528f67b80a7bc3",
     "grade": true,
     "grade_id": "cell-13df73337533f667",
     "locked": false,
     "points": 20,
     "schema_version": 1,
     "solution": true
    }
   },
   "outputs": [
    {
     "name": "stdout",
     "output_type": "stream",
     "text": [
      "Assembled! Use %dis or %dump to examine; use %exe to run.\n"
     ]
    }
   ],
   "source": [
    ".ORIG x3000\n",
    "0101 000 000 1 00000   ;; R0 <- 0      , AND DST SRC #0  \n",
    "0101 001 001 1 00000   ;; R1 <- 0      , AND DST SRC #0  \n",
    "0001 001 001 1 01011   ;; R1 <- 11     , ADD R1 R1 1 #11\n",
    "\n",
    "0001 000 000 1 00001   ;; R0 <- R0 + 1   , ADD R0 R0 1 #1\n",
    "0001 001 001 1 11101   ;; R1 <- R1 + -3  , ADD R1 R1 #-3  \n",
    "0000 001 111111101     ;; if R1 is positive, keep going, end when R1 is negative\n",
    "\n",
    "0001 000 000 1 11111   ;; R0 <- R0 + -1  \n",
    "1111 0000 00100101     ;; HALT\n",
    ".END"
   ]
  },
  {
   "cell_type": "code",
   "execution_count": 37,
   "metadata": {},
   "outputs": [
    {
     "name": "stdout",
     "output_type": "stream",
     "text": [
      "============================================================\n",
      "Computation completed\n",
      "============================================================\n",
      "Instructions: 17\n",
      "Cycles: 105 (0.000053 milliseconds)\n",
      "\n",
      "============================================================\n",
      "Registers:\n",
      "============================================================\n",
      "PC: x048E\n",
      "N: 0 Z: 0 P: 1 \n",
      "R0: x0003 R1: xFFFF R2: x0000 R3: x0000 \n",
      "R4: x0000 R5: x0000 R6: x0000 R7: x3008 \n"
     ]
    }
   ],
   "source": [
    "%exe"
   ]
  },
  {
   "cell_type": "markdown",
   "metadata": {
    "collapsed": true
   },
   "source": [
    "3 goes into 11 three times, so R0 shows the answer 3. Here, I used a similar algorithm as problem 6 but this time, I have to keep track of the quotient. Thus, I increment R0 and I keep subtracting 3 from R1 (which initially contains 11) and as long as R1 is positive, continue the loop. Every time the loop runs, R0 increments so that we can keep track of how many loops we have gone through. At the end, I noticed that I was getting the answer 4 instead of 3, and realized that I had to decrement R0 by 1 at the end because the loop goes through another loop until it reaches the condition of R1 being positive (kind of like a do-while loop)."
   ]
  },
  {
   "cell_type": "markdown",
   "metadata": {},
   "source": [
    "## 1.8 Problem"
   ]
  },
  {
   "cell_type": "markdown",
   "metadata": {},
   "source": [
    "How many times will 4 go into 33? Make your code so that you could change the data and it would still work."
   ]
  },
  {
   "cell_type": "code",
   "execution_count": 302,
   "metadata": {
    "deletable": false,
    "nbgrader": {
     "checksum": "42de4cc1c5345b0304bac2c66e7dbdc9",
     "grade": true,
     "grade_id": "cell-09108348038a37a4",
     "locked": false,
     "points": 20,
     "schema_version": 1,
     "solution": true
    }
   },
   "outputs": [
    {
     "name": "stdout",
     "output_type": "stream",
     "text": [
      "Assembled! Use %dis or %dump to examine; use %exe to run.\n"
     ]
    }
   ],
   "source": [
    ".ORIG x3000\n",
    "0101 000 000 1 00000   ;; R0 <- 0      , AND DST SRC #0  \n",
    "0101 001 001 1 00000   ;; R1 <- 0      , AND DST SRC #0  \n",
    "0001 001 001 1 01111   ;; R1 <- 15     , ADD R1 R1 1 #15  1+2+4+8\n",
    "0001 001 001 1 01111   ;; R1 <- 15     , ADD R1 R1 1 #15  1+2+4+8\n",
    "0001 001 001 1 00011   ;; R1 <- 3     , ADD R1 R1 1 #3  \n",
    "\n",
    "0001 000 000 1 00001   ;; R0 <- R0 + 1   , ADD R0 R0 1 #1\n",
    "0001 001 001 1 11100   ;; R1 <- R1 + -4  , ADD R1 R1 1 #-4  00100 -> 11011 -> 11100\n",
    "\n",
    "0000 001 111111101     ;; if R1 is positive, keep going, end when R1 is negative\n",
    "0001 000 000 1 11111   ;; R0 <- R0 + -1  ?\n",
    "\n",
    "1111 0000 00100101     ;; HALT\n",
    ".END"
   ]
  },
  {
   "cell_type": "code",
   "execution_count": 303,
   "metadata": {},
   "outputs": [
    {
     "name": "stdout",
     "output_type": "stream",
     "text": [
      "============================================================\n",
      "Computation completed\n",
      "============================================================\n",
      "Instructions: 34\n",
      "Cycles: 207 (0.000103 milliseconds)\n",
      "\n",
      "============================================================\n",
      "Registers:\n",
      "============================================================\n",
      "PC: x048E\n",
      "N: 0 Z: 0 P: 1 \n",
      "R0: x0008 R1: xFFFD R2: x0000 R3: x0000 \n",
      "R4: x0000 R5: x0000 R6: x0000 R7: x300A \n"
     ]
    }
   ],
   "source": [
    "%exe"
   ]
  },
  {
   "cell_type": "markdown",
   "metadata": {
    "collapsed": true
   },
   "source": [
    "Answer is 8, in R0. I used the same program as question 7 above, except that I realized I cannot just ADD 33 into R1 directly because ADD only takes 5 bits (32 would be the maximum number I could ADD), so I split up 33 into three parts (15 + 15 + 3). Otherwise, the program uses the same loop as the one I used in question 7."
   ]
  },
  {
   "cell_type": "markdown",
   "metadata": {},
   "source": [
    "## 1.9 Problem"
   ]
  },
  {
   "cell_type": "markdown",
   "metadata": {},
   "source": [
    "Is the number 5 in the range of numbers 1 through 10? Make your code so that you could change 10 or 5 and it would still work."
   ]
  },
  {
   "cell_type": "code",
   "execution_count": 1,
   "metadata": {
    "deletable": false,
    "nbgrader": {
     "checksum": "2e327815b4506e34b6566e425f342638",
     "grade": true,
     "grade_id": "cell-73defe6692755ec7",
     "locked": false,
     "points": 20,
     "schema_version": 1,
     "solution": true
    }
   },
   "outputs": [
    {
     "name": "stdout",
     "output_type": "stream",
     "text": [
      "Assembled! Use %dis or %dump to examine; use %exe to run.\n"
     ]
    }
   ],
   "source": [
    ".ORIG x3000\n",
    "0101 000 000 1 00000   ;; R0 <- 0      , AND DST SRC #0  \n",
    "0101 001 001 1 00000   ;; R1 <- 0      , AND DST SRC #0 \n",
    "0101 010 010 1 00000   ;; R2 <- 0      , AND DST SRC #0 \n",
    "0001 001 001 1 00110   ;; R1 <- 10     , ADD R1 R1 1 #10 \n",
    "0001 010 010 1 11011   ;; R2 <- -5     , ADD R2 R2 1 #-5 (-5 -> 00101 -> 11010 -> 11011)\n",
    "\n",
    "0000 010 000000100     ;; if PC is zero, x3010 -4 x3006 (print true)\n",
    "\n",
    "0001 001 001 1 11111   ;; R1 <- R1 + -1, decrement\n",
    "0000 100 000000011     ;; if PC is zero, x3011 (goto HALT) -3 x3008\n",
    "0001 011 001 0 00 010  ;; R3 <- R1 + R2\n",
    "\n",
    "0000 111 111111011     ;; regardless of result, goto x3010 -5 x3005 to loop again\n",
    "0001 000 000 1 00001   ;; R0 <- 1, R0 prints 1, for true\n",
    "\n",
    "1111 0000 00100101     ;; HALT\n",
    ".END"
   ]
  },
  {
   "cell_type": "code",
   "execution_count": 2,
   "metadata": {},
   "outputs": [
    {
     "name": "stdout",
     "output_type": "stream",
     "text": [
      "============================================================\n",
      "Computation completed\n",
      "============================================================\n",
      "Instructions: 13\n",
      "Cycles: 81 (0.000041 milliseconds)\n",
      "\n",
      "============================================================\n",
      "Registers:\n",
      "============================================================\n",
      "PC: x048E\n",
      "N: 0 Z: 0 P: 1 \n",
      "R0: x0001 R1: x0005 R2: xFFFB R3: x0000 \n",
      "R4: x0000 R5: x0000 R6: x0000 R7: x300C \n"
     ]
    }
   ],
   "source": [
    "%exe"
   ]
  },
  {
   "cell_type": "code",
   "execution_count": 4,
   "metadata": {},
   "outputs": [
    {
     "name": "stdout",
     "output_type": "stream",
     "text": [
      "============================================================\n",
      "Stepping...  => read, <= write, (Instructions/Cycles):\n",
      "============================================================\n",
      "    PC <= x048F\n",
      "(14/87) LEA R0, x04B0 (x048F*: xE021)\n",
      "    R0 <= x04B0\n",
      "    NZP <= (0, 0, 1)\n",
      "\n",
      "============================================================\n",
      "Registers:\n",
      "============================================================\n",
      "PC: x048F\n",
      "N: 0 Z: 0 P: 1 \n",
      "R0: x04B0 R1: x0005 R2: xFFFB R3: x0000 \n",
      "R4: x0000 R5: x0000 R6: x0000 R7: x300C \n"
     ]
    }
   ],
   "source": [
    "%step"
   ]
  },
  {
   "cell_type": "markdown",
   "metadata": {},
   "source": [
    "I initially had a lot of trouble trying to code this so that the program would print out \"True\" or \"False\" using PUTS, but I realized I could also just return 0 or 1 to indicate True/False. The answer is in R0, and stores 1 if the number is in the range and 0 if the number is not in the given range. Here, 5 is in the range of numbers 1 through 10, so R0 stores 1. First, I ADDed 10 (the larger end of the range) to R1, and -5 (the number in question in negative) to R2. Once my program enters the loop and if the PC is zero, it decrements R1 and continues looping until PC hits 0. Then, the program will halt and R0 will contain 0. If the PC does not hit zero, we subtract R2 from R1 (current value in R1 with R2, which is the number being checked) and store the result in R3. Then, regardless of the result, we go back to the top of the loop and check whether or not the PC after the ADD results in 0. If so, I ADDed 1 to R0 and the final result would show 1 in R0. "
   ]
  },
  {
   "cell_type": "markdown",
   "metadata": {
    "collapsed": true
   },
   "source": [
    "I tried running the program swapping the 10 with 5 to see if the program will work (shown below)."
   ]
  },
  {
   "cell_type": "code",
   "execution_count": 52,
   "metadata": {},
   "outputs": [
    {
     "name": "stdout",
     "output_type": "stream",
     "text": [
      "Assembled! Use %dis or %dump to examine; use %exe to run.\n"
     ]
    }
   ],
   "source": [
    ".ORIG x3000\n",
    "0101 000 000 1 00000   ;; R0 <- 0      , AND DST SRC #0  \n",
    "0101 001 001 1 00000   ;; R1 <- 0      , AND DST SRC #0 \n",
    "0101 010 010 1 00000   ;; R2 <- 0      , AND DST SRC #0 \n",
    "0001 001 001 1 00101   ;; R1 <- 5      , ADD R1 R1 1 #5 \n",
    "0001 010 010 1 10110   ;; R2 <- -10     , ADD R2 R2 1 #-10 (01010 -> 10101 -> 10110)\n",
    "\n",
    "0000 010 000000100     ;; if PC is zero, X3010 -4 x3006\n",
    "\n",
    "0001 001 001 1 11111   ;; R1 <- R1 + -1,  decrement\n",
    "0000 010 000000011     ;; if PC is zero, x3011 (HALT) -3 x3008\n",
    "0001 011 001 0 00 010  ;; R3 <- R1 + R2\n",
    "\n",
    "0000 111 111111011     ;; regardless of result, goto x3010 -5 x3005 to loop again\n",
    "0001 000 000 1 00001   ;; R0 <- 1, R0 prints 1, for true\n",
    "\n",
    "\n",
    "1111 0000 00100101     ;; HALT\n",
    ".END"
   ]
  },
  {
   "cell_type": "code",
   "execution_count": 53,
   "metadata": {},
   "outputs": [
    {
     "name": "stdout",
     "output_type": "stream",
     "text": [
      "============================================================\n",
      "Computation completed\n",
      "============================================================\n",
      "Instructions: 29\n",
      "Cycles: 177 (0.000088 milliseconds)\n",
      "\n",
      "============================================================\n",
      "Registers:\n",
      "============================================================\n",
      "PC: x048E\n",
      "N: 0 Z: 1 P: 0 \n",
      "R0: x0000 R1: x0000 R2: xFFF6 R3: xFFF7 \n",
      "R4: x0000 R5: x0000 R6: x0000 R7: x300C \n"
     ]
    }
   ],
   "source": [
    "%exe"
   ]
  },
  {
   "cell_type": "markdown",
   "metadata": {
    "collapsed": true
   },
   "source": [
    "Note that R0 now shows 0 (false), which indicates that the number 10 is not in the range of numbers 0 through 5."
   ]
  },
  {
   "cell_type": "markdown",
   "metadata": {},
   "source": [
    "## 1.10 Problem\n",
    "\n",
    "Put a number in R0. If the number in R0 is even, put the number xFF in R1, otherwise put x00 in R1."
   ]
  },
  {
   "cell_type": "markdown",
   "metadata": {},
   "source": [
    "First, I noted that we cannot simply ADD xFF in R1, because xFF is 1111 1111, and our ADD instruction only allows for 5 bits. "
   ]
  },
  {
   "cell_type": "code",
   "execution_count": 59,
   "metadata": {
    "deletable": false,
    "nbgrader": {
     "checksum": "be43f6cbe4e365fa3c7e8abfca9a85c6",
     "grade": true,
     "grade_id": "cell-f516c6b004e6ead4",
     "locked": false,
     "points": 20,
     "schema_version": 1,
     "solution": true
    }
   },
   "outputs": [
    {
     "name": "stdout",
     "output_type": "stream",
     "text": [
      "Assembled! Use %dis or %dump to examine; use %exe to run.\n"
     ]
    }
   ],
   "source": [
    ".ORIG x3000\n",
    "0010 010 011111111   ;; LD R2 <- xFF\n",
    "0101 000 000 1 00000 ;; AND R0 <- 0\n",
    "0101 001 001 1 00000 ;; AND R1 <- 0\n",
    "\n",
    "0001 000 000 1 00100 ;; ADD R0 <- 4\n",
    "\n",
    "0001 000 000 1 11110 ;; ADD R0 <- R0 + -2 (00010 -> 11101 -> 11110)\n",
    "0000 001 111111110   ;; if positive, loop x3006 -2 x3004\n",
    "0000 100 000000001   ;; if R0 is negative, skip next line\n",
    "0001 001 010 1 00000 ;; R1 <- R2 (xFF)\n",
    "\n",
    "\n",
    "1111 0000 00100101   ;; HALT\n",
    ".END"
   ]
  },
  {
   "cell_type": "code",
   "execution_count": 60,
   "metadata": {},
   "outputs": [
    {
     "name": "stdout",
     "output_type": "stream",
     "text": [
      "============================================================\n",
      "Computation completed\n",
      "============================================================\n",
      "Instructions: 11\n",
      "Cycles: 73 (0.000036 milliseconds)\n",
      "\n",
      "============================================================\n",
      "Registers:\n",
      "============================================================\n",
      "PC: x048E\n",
      "N: 0 Z: 0 P: 1 \n",
      "R0: x0000 R1: x00FF R2: x00FF R3: x0000 \n",
      "R4: x0000 R5: x0000 R6: x0000 R7: x3009 \n"
     ]
    }
   ],
   "source": [
    "%exe"
   ]
  },
  {
   "cell_type": "markdown",
   "metadata": {},
   "source": [
    "I tested 4, which is even, and thus R1 contains xFF. R0 initially ADDs the number in question, 4, to itself. I repeatedly subtract 2 in the loop until R0 hits 0. If R0 hits 0, we know that the number is even as the number%2 is zero. Thus, if R0 is zero, R1 is loaded with xFF. Else, if R0 is negative, the next line will be skipped and thus xFF is not stored in R1. "
   ]
  },
  {
   "cell_type": "code",
   "execution_count": 57,
   "metadata": {},
   "outputs": [
    {
     "name": "stdout",
     "output_type": "stream",
     "text": [
      "Assembled! Use %dis or %dump to examine; use %exe to run.\n"
     ]
    }
   ],
   "source": [
    ".ORIG x3000\n",
    "0010 010 011111111   ;; LD R2 <- xFF\n",
    "0101 000 000 1 00000 ;; AND R0 <- 0\n",
    "0101 001 001 1 00000 ;; AND R1 <- 0\n",
    "\n",
    "0001 000 000 1 00011 ;; ADD R0 <- 3\n",
    "\n",
    "0001 000 000 1 11110 ;; ADD R0 <- R0 + -2 (00010 -> 11101 -> 11110)\n",
    "0000 001 111111110   ;; if positive, loop x3006 -2 x3004\n",
    "0000 100 000000001   ;; if R0 is negative, goto next line\n",
    "0001 001 010 1 00000 ;; R1 <- R2 (xFF)\n",
    "\n",
    "\n",
    "1111 0000 00100101   ;; HALT\n",
    ".END"
   ]
  },
  {
   "cell_type": "code",
   "execution_count": 58,
   "metadata": {},
   "outputs": [
    {
     "name": "stdout",
     "output_type": "stream",
     "text": [
      "============================================================\n",
      "Computation completed\n",
      "============================================================\n",
      "Instructions: 10\n",
      "Cycles: 67 (0.000034 milliseconds)\n",
      "\n",
      "============================================================\n",
      "Registers:\n",
      "============================================================\n",
      "PC: x048E\n",
      "N: 1 Z: 0 P: 0 \n",
      "R0: xFFFF R1: x0000 R2: x00FF R3: x0000 \n",
      "R4: x0000 R5: x0000 R6: x0000 R7: x3009 \n"
     ]
    }
   ],
   "source": [
    "%exe"
   ]
  },
  {
   "cell_type": "markdown",
   "metadata": {},
   "source": [
    "Here, I tested 3, which is odd, and thus R1 contains x00."
   ]
  },
  {
   "cell_type": "markdown",
   "metadata": {},
   "source": [
    "# Reflection\n",
    "\n",
    "The reflection cell is the most import cell in this lab... in all labs. In your reflection, you should:\n",
    "\n",
    "* Reflect! Think and comment on what you have learned this lab, and this week. \n",
    "* Connect the ideas onto your own life, and experiences.\n",
    "* Comment on what you found challenging, and what you found intuitive.\n",
    "\n",
    "Put your reflections in the cell below. You should write more than a paragraph. Remember:\n",
    "\n",
    "* don't indent paragraphs\n",
    "* use Markdown highlighting \n",
    "* use the spell checker"
   ]
  },
  {
   "cell_type": "markdown",
   "metadata": {
    "deletable": false,
    "nbgrader": {
     "checksum": "9ec2a8938b9d60f6b7f8f5306bdde295",
     "grade": true,
     "grade_id": "cell-2c90546119ae639b",
     "locked": false,
     "points": 50,
     "schema_version": 1,
     "solution": true
    }
   },
   "source": [
    "This lab was a chance for me to really use the instructions we've covered so far. I found the simple questions such as subtracting two small numbers not too difficult, but the ones using loops and using numbers that required more than just 5 bits made me think much harder. \n",
    "\n",
    "When I first started learning about the LC-3 and machine language, I was led to think that I could not do much with this; I hadn't thought about the possibility of adding multiple times into one register to be able to use numbers larger than 32 (in a 5-bit operand instruction) or the possibility of using conditional branches to control the flow of the program to even be able to produce True/False answers to questions. I also realized how convenient debugging is when solving these problems. I wanted to avoid it because it felt like more work than it was worth, but once I started stepping over my work and really looking where my code failed to increment one last time or store the value in the wrong register helped me quickly fix my code rather than having to go through line by line and sketch out my program multiple times, confused.\n",
    "\n",
    "I had the most trouble with number 9. I tried multiple different algorithms, such as simply checking whether or not the given number in question is positive and under the largest number in the range or checking whether the difference between the number and the smallest number in the range is greater than zero. The solution I finally came up with made much more sense to me when I started coding the program (decrementing a counter each time the difference between the number in question and the largest number in question, and making sure that the difference is positive; if not, it is not in range and needs to break from the loop). Again, I realized the convenience and purpose of loops in programs and wished that we had variables and conditionals between two variables. But that will come later...\n"
   ]
  },
  {
   "cell_type": "code",
   "execution_count": null,
   "metadata": {
    "collapsed": true
   },
   "outputs": [],
   "source": []
  }
 ],
 "metadata": {
  "kernelspec": {
   "display_name": "Calysto LC3",
   "language": "asm",
   "name": "calysto_lc3"
  },
  "language_info": {
   "file_extension": ".asm",
   "mimetype": "text/x-gas",
   "name": "gas"
  }
 },
 "nbformat": 4,
 "nbformat_minor": 1
}
